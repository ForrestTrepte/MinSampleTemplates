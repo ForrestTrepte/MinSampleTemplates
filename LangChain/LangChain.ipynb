{
 "cells": [
  {
   "cell_type": "code",
   "execution_count": 1,
   "metadata": {},
   "outputs": [
    {
     "name": "stdout",
     "output_type": "stream",
     "text": [
      "Using key from OPENAI_API_KEY_PERSONAL environment variable\n"
     ]
    },
    {
     "name": "stderr",
     "output_type": "stream",
     "text": [
      "c:\\Users\\forre\\miniconda3\\envs\\langchain3\\lib\\site-packages\\langchain\\llms\\openai.py:216: UserWarning: You are trying to use a chat model. This way of initializing it is no longer supported. Instead, please use: `from langchain.chat_models import ChatOpenAI`\n",
      "  warnings.warn(\n",
      "c:\\Users\\forre\\miniconda3\\envs\\langchain3\\lib\\site-packages\\langchain\\llms\\openai.py:811: UserWarning: You are trying to use a chat model. This way of initializing it is no longer supported. Instead, please use: `from langchain.chat_models import ChatOpenAI`\n",
      "  warnings.warn(\n"
     ]
    },
    {
     "ename": "NameError",
     "evalue": "name 'verbose' is not defined",
     "output_type": "error",
     "traceback": [
      "\u001b[1;31m---------------------------------------------------------------------------\u001b[0m",
      "\u001b[1;31mNameError\u001b[0m                                 Traceback (most recent call last)",
      "\u001b[1;32mc:\\s\\MinSampleTemplates\\LangChain\\LangChain.ipynb Cell 1\u001b[0m line \u001b[0;36m3\n\u001b[0;32m     <a href='vscode-notebook-cell:/c%3A/s/MinSampleTemplates/LangChain/LangChain.ipynb#W0sZmlsZQ%3D%3D?line=24'>25</a>\u001b[0m prompt \u001b[39m=\u001b[39m prompt \u001b[39m=\u001b[39m PromptTemplate(\n\u001b[0;32m     <a href='vscode-notebook-cell:/c%3A/s/MinSampleTemplates/LangChain/LangChain.ipynb#W0sZmlsZQ%3D%3D?line=25'>26</a>\u001b[0m     input_variables\u001b[39m=\u001b[39m[\u001b[39m\"\u001b[39m\u001b[39mcharacter\u001b[39m\u001b[39m\"\u001b[39m, \u001b[39m\"\u001b[39m\u001b[39mquestion\u001b[39m\u001b[39m\"\u001b[39m],\n\u001b[0;32m     <a href='vscode-notebook-cell:/c%3A/s/MinSampleTemplates/LangChain/LangChain.ipynb#W0sZmlsZQ%3D%3D?line=26'>27</a>\u001b[0m     template\u001b[39m=\u001b[39mtemplate)\n\u001b[0;32m     <a href='vscode-notebook-cell:/c%3A/s/MinSampleTemplates/LangChain/LangChain.ipynb#W0sZmlsZQ%3D%3D?line=28'>29</a>\u001b[0m llm \u001b[39m=\u001b[39m OpenAI(\n\u001b[0;32m     <a href='vscode-notebook-cell:/c%3A/s/MinSampleTemplates/LangChain/LangChain.ipynb#W0sZmlsZQ%3D%3D?line=29'>30</a>\u001b[0m     temperature\u001b[39m=\u001b[39mtemperature,\n\u001b[0;32m     <a href='vscode-notebook-cell:/c%3A/s/MinSampleTemplates/LangChain/LangChain.ipynb#W0sZmlsZQ%3D%3D?line=30'>31</a>\u001b[0m     model_name \u001b[39m=\u001b[39m \u001b[39m\"\u001b[39m\u001b[39mgpt-4\u001b[39m\u001b[39m\"\u001b[39m) \u001b[39m# see https://platform.openai.com/docs/models/gpt-4\u001b[39;00m\n\u001b[0;32m     <a href='vscode-notebook-cell:/c%3A/s/MinSampleTemplates/LangChain/LangChain.ipynb#W0sZmlsZQ%3D%3D?line=32'>33</a>\u001b[0m chain \u001b[39m=\u001b[39m LLMChain(\n\u001b[0;32m     <a href='vscode-notebook-cell:/c%3A/s/MinSampleTemplates/LangChain/LangChain.ipynb#W0sZmlsZQ%3D%3D?line=33'>34</a>\u001b[0m     llm\u001b[39m=\u001b[39mllm,\n\u001b[0;32m     <a href='vscode-notebook-cell:/c%3A/s/MinSampleTemplates/LangChain/LangChain.ipynb#W0sZmlsZQ%3D%3D?line=34'>35</a>\u001b[0m     prompt\u001b[39m=\u001b[39mprompt,\n\u001b[1;32m---> <a href='vscode-notebook-cell:/c%3A/s/MinSampleTemplates/LangChain/LangChain.ipynb#W0sZmlsZQ%3D%3D?line=35'>36</a>\u001b[0m     verbose\u001b[39m=\u001b[39mverbose)\n\u001b[0;32m     <a href='vscode-notebook-cell:/c%3A/s/MinSampleTemplates/LangChain/LangChain.ipynb#W0sZmlsZQ%3D%3D?line=37'>38</a>\u001b[0m \u001b[39mfor\u001b[39;00m trial \u001b[39min\u001b[39;00m \u001b[39mrange\u001b[39m(\u001b[39m3\u001b[39m):\n\u001b[0;32m     <a href='vscode-notebook-cell:/c%3A/s/MinSampleTemplates/LangChain/LangChain.ipynb#W0sZmlsZQ%3D%3D?line=38'>39</a>\u001b[0m     \u001b[39mprint\u001b[39m(\u001b[39mf\u001b[39m\u001b[39m\"\u001b[39m\u001b[39m*** Trial \u001b[39m\u001b[39m{\u001b[39;00mtrial\u001b[39m}\u001b[39;00m\u001b[39m ***\u001b[39m\u001b[39m\"\u001b[39m)\n",
      "\u001b[1;31mNameError\u001b[0m: name 'verbose' is not defined"
     ]
    }
   ],
   "source": [
    "import langchain\n",
    "from langchain import OpenAI, LLMChain, PromptTemplate\n",
    "import textwrap\n",
    "import simple_llm_cache\n",
    "import llm_cache_stats_wrapper\n",
    "import os\n",
    "\n",
    "# In order to make it easy to run work projects and personal AI experiments, override OPENAI_API_KEY with the value of OPENAI_API_KEY_PERSONAL if it is set.\n",
    "if \"OPENAI_API_KEY_PERSONAL\" in os.environ:\n",
    "    print(\"Using key from OPENAI_API_KEY_PERSONAL environment variable\")\n",
    "    os.environ[\"OPENAI_API_KEY\"] = os.environ[\"OPENAI_API_KEY_PERSONAL\"]\n",
    "\n",
    "verbose = False\n",
    "temperature = 0.5\n",
    "\n",
    "langchain.llm_cache = llm_cache_stats_wrapper.LlmCacheStatsWrapper(simple_llm_cache.SimpleLlmCache(\"llm-cache.json\"))\n",
    "\n",
    "def dump_cache_stats_since_last_call():\n",
    "    langchain.llm_cache.dump_cache_stats()\n",
    "    langchain.llm_cache.clear_cache_stats()\n",
    "    \n",
    "template = \"\"\"Answer the following question as if you are a {character} character:\n",
    "{question}\n",
    "\"\"\"\n",
    "\n",
    "prompt = prompt = PromptTemplate(\n",
    "    input_variables=[\"character\", \"question\"],\n",
    "    template=template)\n",
    "\n",
    "llm = OpenAI(\n",
    "    temperature=temperature,\n",
    "    model_name = \"gpt-4\") # see https://platform.openai.com/docs/models/gpt-4\n",
    "\n",
    "chain = LLMChain(\n",
    "    llm=llm,\n",
    "    prompt=prompt,\n",
    "    verbose=verbose)\n",
    "\n",
    "for trial in range(3):\n",
    "    print(f\"*** Trial {trial} ***\")\n",
    "    langchain.llm_cache.inner_cache.set_trial(trial)\n",
    "    output = chain.predict(\n",
    "        character=\"pirate\",\n",
    "        question=\"What is a neural network?\")\n",
    "    print(textwrap.fill(output, width=80))\n",
    "\n",
    "dump_cache_stats_since_last_call()"
   ]
  }
 ],
 "metadata": {
  "kernelspec": {
   "display_name": "langchain2",
   "language": "python",
   "name": "python3"
  },
  "language_info": {
   "codemirror_mode": {
    "name": "ipython",
    "version": 3
   },
   "file_extension": ".py",
   "mimetype": "text/x-python",
   "name": "python",
   "nbconvert_exporter": "python",
   "pygments_lexer": "ipython3",
   "version": "3.10.13"
  },
  "orig_nbformat": 4
 },
 "nbformat": 4,
 "nbformat_minor": 2
}
